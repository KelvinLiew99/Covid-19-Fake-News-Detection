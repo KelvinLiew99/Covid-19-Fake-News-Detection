{
 "cells": [
  {
   "cell_type": "code",
   "execution_count": null,
   "id": "84dad268",
   "metadata": {},
   "outputs": [
    {
     "name": "stdout",
     "output_type": "stream",
     "text": [
      " * Serving Flask app \"__main__\" (lazy loading)\n",
      " * Environment: production\n",
      "\u001b[31m   WARNING: This is a development server. Do not use it in a production deployment.\u001b[0m\n",
      "\u001b[2m   Use a production WSGI server instead.\u001b[0m\n",
      " * Debug mode: off\n"
     ]
    },
    {
     "name": "stderr",
     "output_type": "stream",
     "text": [
      " * Running on http://127.0.0.1:5000/ (Press CTRL+C to quit)\n",
      "127.0.0.1 - - [10/Dec/2022 15:42:15] \"GET / HTTP/1.1\" 200 -\n",
      "[2022-12-10 15:42:18,942] ERROR in app: Exception on / [POST]\n",
      "Traceback (most recent call last):\n",
      "  File \"C:\\Users\\Kelvin\\anaconda3\\lib\\site-packages\\flask\\app.py\", line 2447, in wsgi_app\n",
      "    response = self.full_dispatch_request()\n",
      "  File \"C:\\Users\\Kelvin\\anaconda3\\lib\\site-packages\\flask\\app.py\", line 1952, in full_dispatch_request\n",
      "    rv = self.handle_user_exception(e)\n",
      "  File \"C:\\Users\\Kelvin\\anaconda3\\lib\\site-packages\\flask\\app.py\", line 1821, in handle_user_exception\n",
      "    reraise(exc_type, exc_value, tb)\n",
      "  File \"C:\\Users\\Kelvin\\anaconda3\\lib\\site-packages\\flask\\_compat.py\", line 39, in reraise\n",
      "    raise value\n",
      "  File \"C:\\Users\\Kelvin\\anaconda3\\lib\\site-packages\\flask\\app.py\", line 1950, in full_dispatch_request\n",
      "    rv = self.dispatch_request()\n",
      "  File \"C:\\Users\\Kelvin\\anaconda3\\lib\\site-packages\\flask\\app.py\", line 1936, in dispatch_request\n",
      "    return self.view_functions[rule.endpoint](**req.view_args)\n",
      "  File \"C:\\Users\\Kelvin\\AppData\\Local\\Temp\\ipykernel_3020\\2209488297.py\", line 31, in webapp\n",
      "    prediction = predict(text)\n",
      "  File \"C:\\Users\\Kelvin\\AppData\\Local\\Temp\\ipykernel_3020\\2209488297.py\", line 24, in predict\n",
      "    review_vect = countvect.transform([review]).toarray()\n",
      "  File \"C:\\Users\\Kelvin\\anaconda3\\lib\\site-packages\\scipy\\sparse\\_base.py\", line 771, in __getattr__\n",
      "    raise AttributeError(attr + \" not found\")\n",
      "AttributeError: transform not found\n",
      "127.0.0.1 - - [10/Dec/2022 15:42:18] \"POST / HTTP/1.1\" 500 -\n"
     ]
    }
   ],
   "source": [
    "from flask import Flask, render_template, request, jsonify\n",
    "import nltk\n",
    "import pickle\n",
    "from nltk.corpus import stopwords\n",
    "import re\n",
    "from nltk.stem.porter import PorterStemmer\n",
    "\n",
    "app = Flask(__name__)\n",
    "ps = PorterStemmer()\n",
    "\n",
    "model = pickle.load(open('modelsvm.pkl', 'rb'))\n",
    "countvect = pickle.load(open('countvect.pkl', 'rb'))\n",
    "\n",
    "@app.route('/', methods=['GET'])\n",
    "def home():\n",
    "    return render_template('index.html')\n",
    "\n",
    "def predict(text):\n",
    "    review = re.sub('[^a-zA-Z]', ' ', text)\n",
    "    review = review.lower()\n",
    "    review = review.split()\n",
    "    review = [ps.stem(word) for word in review if not word in stopwords.words('english')]\n",
    "    review = ' '.join(review)\n",
    "    review_vect = countvect.transform([review]).toarray()\n",
    "    prediction = 'FAKE' if model.predict(review_vect) == 0 else 'TRUE'\n",
    "    return prediction\n",
    "\n",
    "@app.route('/', methods=['POST'])\n",
    "def webapp():\n",
    "    text = request.form['text']\n",
    "    prediction = predict(text)\n",
    "    return render_template('index.html', text=text, result=prediction)\n",
    "\n",
    "\n",
    "@app.route('/predict/', methods=['GET','POST'])\n",
    "def api():\n",
    "    text = request.args.get(\"text\")\n",
    "    prediction = predict(text)\n",
    "    return jsonify(prediction=prediction)\n",
    "\n",
    "if __name__ == \"__main__\":\n",
    "    app.run()"
   ]
  },
  {
   "cell_type": "code",
   "execution_count": null,
   "id": "10b90d51",
   "metadata": {},
   "outputs": [],
   "source": []
  }
 ],
 "metadata": {
  "kernelspec": {
   "display_name": "Python 3 (ipykernel)",
   "language": "python",
   "name": "python3"
  },
  "language_info": {
   "codemirror_mode": {
    "name": "ipython",
    "version": 3
   },
   "file_extension": ".py",
   "mimetype": "text/x-python",
   "name": "python",
   "nbconvert_exporter": "python",
   "pygments_lexer": "ipython3",
   "version": "3.9.13"
  }
 },
 "nbformat": 4,
 "nbformat_minor": 5
}
